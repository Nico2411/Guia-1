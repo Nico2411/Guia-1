{
 "cells": [
  {
   "cell_type": "markdown",
   "metadata": {},
   "source": [
    "Inciso a)"
   ]
  },
  {
   "cell_type": "markdown",
   "metadata": {},
   "source": [
    "El problema 18 que se nos presenta, es parecido al problema de las galaxias.\n",
    "\n",
    "Espacio muestral: Consiste en el conjunto de todos los posibles resultados de un experimento aleatorio.\n",
    "En este caso en el tiro de dados, como tomo su suma son los resultado del 2 al 12, E= [2, 12]\n",
    "La variable aleatoria son todos los posibles resultados en el tiro de dados:\n",
    "        \n",
    "X= (1,1), (1,2), (1,3), (1,4), (1,5), (1,6), (2,1), (2,2), (2,3), (2,4), (2,5), (2,6), (3,1), (3,2), (3,3), (3,4), (3,5), (3,6),\n",
    "   (4,1), (4,2), (4,3), (4,4), (4,5), (4,6), (5,1), (5,2), (5,3), (5,4), (5,5), (5,6), (6,1), (6,2), (6,3), (6,4), (6,5), (6,6)\n",
    "  \n",
    "El conjunto X posee 6*6 = 36 elementos."
   ]
  },
  {
   "cell_type": "markdown",
   "metadata": {},
   "source": [
    "Inciso b)"
   ]
  },
  {
   "cell_type": "markdown",
   "metadata": {},
   "source": [
    "La probabilidad de la variable aleatoria es la suma de los casos probables sobre los casos posibles:\n",
    "    \n",
    "    P(2) = 1/36\n",
    "    P(3) = 2/36\n",
    "    P(4) = 3/36\n",
    "    P(5) = 4/36\n",
    "    P(6) = 5/36\n",
    "    P(7) = 6/36\n",
    "    P(8) = 5/36\n",
    "    P(9) = 4/36\n",
    "    P(10) = 3/36\n",
    "    P(11) = 2/36\n",
    "    P(12) = 1/36"
   ]
  },
  {
   "cell_type": "markdown",
   "metadata": {},
   "source": [
    "Inciso c)"
   ]
  },
  {
   "cell_type": "code",
   "execution_count": 49,
   "metadata": {},
   "outputs": [],
   "source": [
    "from random import random"
   ]
  },
  {
   "cell_type": "markdown",
   "metadata": {},
   "source": [
    "Utilizo la funcion random, junto a la probabilidad del inciso b)"
   ]
  },
  {
   "cell_type": "code",
   "execution_count": 50,
   "metadata": {},
   "outputs": [],
   "source": [
    "def generador():\n",
    "        x = random() \n",
    "        if x <= 1/36:\n",
    "            suma = 'Dos'\n",
    "        elif (x>1/36) & (x<=3/36):\n",
    "            suma = 'Tres'\n",
    "        elif (x>3/36) & (x<=6/36):\n",
    "            suma = 'Cuatro'\n",
    "        elif (x>6/36) & (x<=10/36):\n",
    "            suma = 'Cinco'\n",
    "        elif (x>10/36) & (x<=15/36):\n",
    "            suma = 'Seis'\n",
    "        elif (x>15/36) & (x<=21/36):\n",
    "            suma = 'Siete'\n",
    "        elif (x>21/36) & (x<=26/36):\n",
    "            suma = 'Ocho'\n",
    "        elif (x>26/36) & (x<=30/36):\n",
    "            suma = 'Nueve'\n",
    "        elif (x>30/36) & (x<=33/36):\n",
    "            suma = 'Diez'\n",
    "        elif (x>33/36) & (x<=35/36):\n",
    "            suma = 'Once'\n",
    "        else:\n",
    "            suma = 'Doce'\n",
    "        return(suma)\n",
    "            "
   ]
  },
  {
   "cell_type": "code",
   "execution_count": 51,
   "metadata": {},
   "outputs": [
    {
     "data": {
      "text/plain": [
       "'Seis'"
      ]
     },
     "execution_count": 51,
     "metadata": {},
     "output_type": "execute_result"
    }
   ],
   "source": [
    "generador()"
   ]
  },
  {
   "cell_type": "markdown",
   "metadata": {},
   "source": [
    "En otra celda sorteo un gran numero de veces los tiros de dados"
   ]
  },
  {
   "cell_type": "code",
   "execution_count": 52,
   "metadata": {},
   "outputs": [],
   "source": [
    "lista = []\n",
    "for i in range(1000):\n",
    "# sorteamos 1000 numeros, el numero se puede modificar, pero luego hay que ejecutarlo en todas las celdas con \n",
    "# codigos sucesivas    \n",
    "        S=generador()\n",
    "        lista.append(S)"
   ]
  },
  {
   "cell_type": "markdown",
   "metadata": {},
   "source": [
    "Quiero contar cuantas sumas de dados  (2, 3, 4, ..., 12) nos salieron en el generador"
   ]
  },
  {
   "cell_type": "code",
   "execution_count": 57,
   "metadata": {},
   "outputs": [],
   "source": [
    "# Creo una lista de la variable aleatoria\n",
    "S = ['Dos', 'Tres', 'Cuatro', 'Cinco', 'Seis', 'Siete', 'Ocho', 'Nueve', 'Diez', 'Once', 'Doce']"
   ]
  },
  {
   "cell_type": "code",
   "execution_count": 58,
   "metadata": {},
   "outputs": [
    {
     "name": "stdout",
     "output_type": "stream",
     "text": [
      "Dos 31\n",
      "Tres 48\n",
      "Cuatro 91\n",
      "Cinco 98\n",
      "Seis 146\n",
      "Siete 167\n",
      "Ocho 143\n",
      "Nueve 105\n",
      "Diez 84\n",
      "Once 52\n",
      "Doce 35\n"
     ]
    }
   ],
   "source": [
    "a = 0 \n",
    "b = 0 \n",
    "c = 0 \n",
    "d = 0 \n",
    "e = 0\n",
    "f = 0\n",
    "g = 0 \n",
    "h = 0\n",
    "k = 0\n",
    "l = 0\n",
    "m = 0\n",
    "for i in lista:\n",
    "    if i == 'Dos':\n",
    "        a = a + 1\n",
    "    elif i == 'Tres':\n",
    "        b = b + 1\n",
    "    elif i == 'Cuatro':\n",
    "        c = c + 1\n",
    "    elif i == 'Cinco':\n",
    "        d = d +1 \n",
    "    elif i == 'Seis':\n",
    "        e = e + 1 \n",
    "    elif i == 'Siete':\n",
    "        f = f + 1\n",
    "    elif i == 'Ocho':\n",
    "        g = g + 1\n",
    "    elif i == 'Nueve':\n",
    "        h = h + 1\n",
    "    elif i == 'Diez':\n",
    "        k = k + 1\n",
    "    elif i == 'Once':\n",
    "        l = l + 1\n",
    "    else:\n",
    "        m = m + 1\n",
    "listsum = [a,b,c,d,e,f,g,h,k,l,m]\n",
    "for x,y in zip (S, listsum):\n",
    "    print (x,y)\n",
    "   "
   ]
  },
  {
   "cell_type": "code",
   "execution_count": 59,
   "metadata": {},
   "outputs": [
    {
     "name": "stdout",
     "output_type": "stream",
     "text": [
      "1000\n"
     ]
    }
   ],
   "source": [
    "print (sum(listsum))\n",
    "# Veo las cantidad de elementos que tiene la lista para ver si es correcta"
   ]
  },
  {
   "cell_type": "code",
   "execution_count": 60,
   "metadata": {},
   "outputs": [],
   "source": [
    "# Ahora quiero sacar la fraccion de cada tipo de suma que salio, para eso tomo cada a,b,c,d,e,f,h,l,m y los divido \n",
    "# por la suma total \n",
    "listsum2 = []\n",
    "# creo otra lista\n",
    "for i in listsum:\n",
    "    si = i/sum(listsum)\n",
    "    listsum2.append(si)\n",
    "    "
   ]
  },
  {
   "cell_type": "code",
   "execution_count": 61,
   "metadata": {},
   "outputs": [
    {
     "data": {
      "text/plain": [
       "[0.031, 0.048, 0.091, 0.098, 0.146, 0.167, 0.143, 0.105, 0.084, 0.052, 0.035]"
      ]
     },
     "execution_count": 61,
     "metadata": {},
     "output_type": "execute_result"
    }
   ],
   "source": [
    "listsum2"
   ]
  },
  {
   "cell_type": "markdown",
   "metadata": {},
   "source": [
    "Realizo un grafico de barras, importo el paquete"
   ]
  },
  {
   "cell_type": "code",
   "execution_count": 7,
   "metadata": {},
   "outputs": [],
   "source": [
    "import matplotlib.pyplot as plt"
   ]
  },
  {
   "cell_type": "code",
   "execution_count": 62,
   "metadata": {},
   "outputs": [
    {
     "data": {
      "text/plain": [
       "Text(0, 0.5, 'Fraccion')"
      ]
     },
     "execution_count": 62,
     "metadata": {},
     "output_type": "execute_result"
    },
    {
     "data": {
      "image/png": "[encoded data removed]",
      "text/plain": [
       "<Figure size 432x288 with 1 Axes>"
      ]
     },
     "metadata": {
      "needs_background": "light"
     },
     "output_type": "display_data"
    }
   ],
   "source": [
    "    plt.bar(S, listsum2)\n",
    "    plt.xlabel ('Suma')\n",
    "    plt.ylabel ('Fraccion')"
   ]
  },
  {
   "cell_type": "markdown",
   "metadata": {},
   "source": [
    "Comparamos el grafico obtenido con la funcion de densidad de probabilidad teorica"
   ]
  },
  {
   "cell_type": "code",
   "execution_count": 45,
   "metadata": {},
   "outputs": [],
   "source": [
    "# Creo una lista, de la probabilidad teorica\n",
    "P = [1/36, 2/36, 3/36, 4/36, 5/36, 6/36, 5/36, 4/36, 3/36, 2/36, 1/36 ]"
   ]
  },
  {
   "cell_type": "code",
   "execution_count": 46,
   "metadata": {},
   "outputs": [
    {
     "data": {
      "text/plain": [
       "Text(0, 0.5, 'Probabilidad Teorica')"
      ]
     },
     "execution_count": 46,
     "metadata": {},
     "output_type": "execute_result"
    },
    {
     "data": {
      "image/png": "[encoded data removed]",
      "text/plain": [
       "<Figure size 432x288 with 1 Axes>"
      ]
     },
     "metadata": {
      "needs_background": "light"
     },
     "output_type": "display_data"
    }
   ],
   "source": [
    "    plt.bar(S, P)\n",
    "    plt.xlabel ('Suma')\n",
    "    plt.ylabel ('Probabilidad Teorica')"
   ]
  },
  {
   "cell_type": "markdown",
   "metadata": {},
   "source": [
    "Notemos que el grafico obtenido con la funcion generador, se aproxima a la distribucion teorica de probabilidad, a mayor numeros del conjunto de valores, mas se acerca a la distribucion. "
   ]
  },
  {
   "cell_type": "markdown",
   "metadata": {},
   "source": [
    "Inciso d)"
   ]
  },
  {
   "cell_type": "markdown",
   "metadata": {},
   "source": [
    "Creo un generador aleatorio de dados con valores entre [1,6]"
   ]
  },
  {
   "cell_type": "code",
   "execution_count": 71,
   "metadata": {},
   "outputs": [],
   "source": [
    "def dado():\n",
    "    x = random()\n",
    "    if (x<=1/6):\n",
    "        dado = 1\n",
    "    elif (x>1/6) & (x<=2/6):\n",
    "        dado = 2\n",
    "    elif (x>2/6) & (x<=3/6):\n",
    "        dado = 3\n",
    "    elif (x>3/6) & (x<=4/6):\n",
    "        dado = 4\n",
    "    elif (x>4/6) & (x<=5/6):\n",
    "        dado = 5\n",
    "    else: \n",
    "        dado = 6\n",
    "    return(dado)"
   ]
  },
  {
   "cell_type": "code",
   "execution_count": 76,
   "metadata": {},
   "outputs": [
    {
     "data": {
      "text/plain": [
       "4"
      ]
     },
     "execution_count": 76,
     "metadata": {},
     "output_type": "execute_result"
    }
   ],
   "source": [
    "dado()"
   ]
  },
  {
   "cell_type": "markdown",
   "metadata": {},
   "source": [
    "Para sumar los resultados de los tiros de dados debo importar la carpeta numpy para operaciones vectoriales"
   ]
  },
  {
   "cell_type": "code",
   "execution_count": 83,
   "metadata": {},
   "outputs": [],
   "source": [
    "import numpy as np"
   ]
  },
  {
   "cell_type": "code",
   "execution_count": 84,
   "metadata": {},
   "outputs": [],
   "source": [
    "dado1 = []\n",
    "dado2 = []\n",
    "for i in range (1000):\n",
    "# Tiro mil veces los dados para mejores resultados de estadistica\n",
    "    d1 = dado()\n",
    "    d2 = dado()\n",
    "    dado1.append(d1)\n",
    "    dado2.append(d2)"
   ]
  },
  {
   "cell_type": "markdown",
   "metadata": {},
   "source": [
    "Sumo los resultados obtenidos"
   ]
  },
  {
   "cell_type": "code",
   "execution_count": 86,
   "metadata": {},
   "outputs": [],
   "source": [
    "suma = []\n",
    "d1array = np.array(dado1)\n",
    "d2array = np.array(dado2)\n",
    "suma = d1array + d2array "
   ]
  },
  {
   "cell_type": "code",
   "execution_count": 87,
   "metadata": {},
   "outputs": [
    {
     "data": {
      "text/plain": [
       "1000"
      ]
     },
     "execution_count": 87,
     "metadata": {},
     "output_type": "execute_result"
    }
   ],
   "source": [
    "len (suma)"
   ]
  },
  {
   "cell_type": "markdown",
   "metadata": {},
   "source": [
    "Al igual que con el inciso anterior, quiero contar cuantas veces salieron el 2, 3, 4, ..., 12 y obtener su fraccion"
   ]
  },
  {
   "cell_type": "code",
   "execution_count": 91,
   "metadata": {},
   "outputs": [
    {
     "name": "stdout",
     "output_type": "stream",
     "text": [
      "Dos 21\n",
      "Tres 39\n",
      "Cuatro 80\n",
      "Cinco 117\n",
      "Seis 144\n",
      "Siete 161\n",
      "Ocho 137\n",
      "Nueve 119\n",
      "Diez 94\n",
      "Once 56\n",
      "Doce 32\n"
     ]
    }
   ],
   "source": [
    "n = 0 \n",
    "p = 0 \n",
    "q = 0 \n",
    "o = 0 \n",
    "r = 0\n",
    "s = 0\n",
    "t = 0 \n",
    "u = 0\n",
    "v = 0\n",
    "w = 0\n",
    "z = 0\n",
    "for i in suma:\n",
    "    if i == 2:\n",
    "        n = n + 1\n",
    "    elif i == 3:\n",
    "        p = p + 1\n",
    "    elif i == 4:\n",
    "        q = q + 1\n",
    "    elif i ==  5:\n",
    "        o = o +1 \n",
    "    elif i == 6:\n",
    "        r = r + 1 \n",
    "    elif i == 7:\n",
    "        s = s + 1\n",
    "    elif i == 8:\n",
    "        t = t + 1\n",
    "    elif i == 9:\n",
    "        u = u + 1\n",
    "    elif i == 10:\n",
    "        v = v + 1\n",
    "    elif i ==11:\n",
    "        w = w + 1\n",
    "    else:\n",
    "        z = z + 1\n",
    "suma2 = [n, p, q, o, r, s, t, u, v, w, z]\n",
    "for x,y in zip (S, suma2):\n",
    "    print (x,y)"
   ]
  },
  {
   "cell_type": "code",
   "execution_count": 96,
   "metadata": {},
   "outputs": [],
   "source": [
    "suma3 = []\n",
    "# creo otra lista para las fracciones\n",
    "for i in suma2:\n",
    "    xi = i/sum(suma2)\n",
    "    suma3.append(xi)"
   ]
  },
  {
   "cell_type": "code",
   "execution_count": 100,
   "metadata": {},
   "outputs": [
    {
     "data": {
      "text/plain": [
       "Text(0, 0.5, 'Fraccion')"
      ]
     },
     "execution_count": 100,
     "metadata": {},
     "output_type": "execute_result"
    },
    {
     "data": {
      "image/png": "[encoded data removed]",
      "text/plain": [
       "<Figure size 432x288 with 1 Axes>"
      ]
     },
     "metadata": {
      "needs_background": "light"
     },
     "output_type": "display_data"
    }
   ],
   "source": [
    "#   Ahora grafico\n",
    "    plt.bar(S, suma3)\n",
    "    plt.xlabel ('Suma')\n",
    "    plt.ylabel ('Fraccion')"
   ]
  },
  {
   "cell_type": "markdown",
   "metadata": {},
   "source": [
    "Vemos que la distribucion de la suma de los dados se aproxima a la teorica mejor que la obtenida en el inciso c.\n",
    "Igualmente ambas formas: Una partiendo del valor de la probabilidad del valor de la suma de los dos dados y la otra de la \n",
    "probabilidad del sorteo de cada dado y luego su suma, son equivalentes para el grafico de la Gaussiana discreta de la suma del tiro de dados "
   ]
  }
 ],
 "metadata": {
  "kernelspec": {
   "display_name": "Python 3",
   "language": "python",
   "name": "python3"
  },
  "language_info": {
   "codemirror_mode": {
    "name": "ipython",
    "version": 3
   },
   "file_extension": ".py",
   "mimetype": "text/x-python",
   "name": "python",
   "nbconvert_exporter": "python",
   "pygments_lexer": "ipython3",
   "version": "3.8.3"
  }
 },
 "nbformat": 4,
 "nbformat_minor": 4
}
