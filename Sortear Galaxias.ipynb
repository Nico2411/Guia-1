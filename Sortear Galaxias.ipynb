{
 "cells": [
  {
   "cell_type": "markdown",
   "metadata": {},
   "source": [
    "La forma en la que he dicidido resolver el problema es utilizando la funcion random de Python, que sortea numeros\n",
    "aleatorios entre 0 y 1, con eso creo una funcion llamada 'Sortear_galaxia' utilizando el condicional 'if' segun los\n",
    "casos que el valor x caiga entre 0 y 1. "
   ]
  },
  {
   "cell_type": "code",
   "execution_count": 1,
   "metadata": {},
   "outputs": [],
   "source": [
    "from random import random"
   ]
  },
  {
   "cell_type": "code",
   "execution_count": 17,
   "metadata": {},
   "outputs": [],
   "source": [
    "def sortear_galaxia ():\n",
    "    x=random()\n",
    "    if x<=0.4:\n",
    "        galaxia = 'Eliptica'\n",
    "    elif (x>0.4) & (x<=0.7):\n",
    "        galaxia = 'Espiral'\n",
    "    elif (x>0.7) & (x<=0.9):\n",
    "        galaxia = 'Enana'\n",
    "    else:\n",
    "        galaxia = 'Irregular'\n",
    "    return(galaxia)"
   ]
  },
  {
   "cell_type": "markdown",
   "metadata": {},
   "source": [
    "La suma de probabilidades de la funcion de probabilidad por cada intervalo nos da:\n",
    "    si x<=0.4, f(x)= 0.4\n",
    "    si x>0.4 y x<=0.7, f(x)= 0.3\n",
    "    si x>0.7 y x<=0.9, f(x) = 0.2\n",
    "    si x>0.9 y x=1, f(x) =0.1\n",
    "    La suma de las f(x) en el intervalo [0;1] nos da 1"
   ]
  },
  {
   "cell_type": "code",
   "execution_count": 19,
   "metadata": {},
   "outputs": [
    {
     "data": {
      "text/plain": [
       "'Espiral'"
      ]
     },
     "execution_count": 19,
     "metadata": {},
     "output_type": "execute_result"
    }
   ],
   "source": [
    "sortear_galaxia()"
   ]
  },
  {
   "cell_type": "markdown",
   "metadata": {},
   "source": [
    "En otra celda, he creado un código que sortea una cantidad n de galaxias usando la función definida anteriormente"
   ]
  },
  {
   "cell_type": "code",
   "execution_count": 11,
   "metadata": {},
   "outputs": [],
   "source": [
    "lista = []\n",
    "for i in range(500):\n",
    "# sorteamos 500 numeros, el numero se puede modificar, pero luego hay que ejecutarlo en todas las celdas con \n",
    "# codigos sucesivas    \n",
    "        S=sortear_galaxia()\n",
    "#     usamos random para sortear con la funcion de galaxias\n",
    "        lista.append(S)\n",
    "#     agregamos cada sorteo a la lista inicialmente vacia \n",
    "    "
   ]
  },
  {
   "cell_type": "markdown",
   "metadata": {},
   "source": [
    "Quiero que contar cuantas galaxias salieron de cada grupo"
   ]
  },
  {
   "cell_type": "code",
   "execution_count": 12,
   "metadata": {},
   "outputs": [
    {
     "name": "stdout",
     "output_type": "stream",
     "text": [
      "Elipticas 215 Espirales 155 Enanas 78 Irregulares 52\n"
     ]
    }
   ],
   "source": [
    "# vemos ahora que nos cuente cada galaxia que nos toco\n",
    "\n",
    "a = 0 \n",
    "# Elipticas\n",
    "b = 0 \n",
    "# Espirales\n",
    "c = 0 \n",
    "# Enana\n",
    "d = 0 \n",
    "# Irregulares\n",
    " \n",
    "for i in lista:\n",
    "    if i == 'Eliptica':\n",
    "        a = a + 1\n",
    "    elif i == 'Espiral':\n",
    "        b = b + 1\n",
    "    elif i == 'Enana':\n",
    "        c = c + 1\n",
    "    else:\n",
    "        d = d +1 \n",
    "print ('Elipticas', a, 'Espirales', b, 'Enanas', c, 'Irregulares', d)"
   ]
  },
  {
   "cell_type": "code",
   "execution_count": 13,
   "metadata": {},
   "outputs": [
    {
     "name": "stdout",
     "output_type": "stream",
     "text": [
      "0.43 0.31 0.156 0.104\n"
     ]
    }
   ],
   "source": [
    "# Ahora quiero sacar el porcentaje de cada tipo de galaxia que salio, para eso tomo a,b,c,d y los divido por la suma total \n",
    "\n",
    "g1 = a / (a+b+c+d) \n",
    "# Elipticas\n",
    "g2 = b / (a+b+c+d)\n",
    "# Espirales\n",
    "g3 = c / (a+b+c+d)\n",
    "# Enanas\n",
    "g4 = d / (a+b+c+d)\n",
    "# Irregulares\n",
    "print (g1, g2, g3, g4)"
   ]
  },
  {
   "cell_type": "markdown",
   "metadata": {},
   "source": [
    "Vemos ahora en base a estos últimos resultados de hacer un gráfico de barras, para eso importamos el paquete"
   ]
  },
  {
   "cell_type": "code",
   "execution_count": 14,
   "metadata": {},
   "outputs": [],
   "source": [
    "import matplotlib.pyplot as plt"
   ]
  },
  {
   "cell_type": "code",
   "execution_count": 16,
   "metadata": {},
   "outputs": [
    {
     "data": {
      "text/plain": [
       "Text(0, 0.5, 'Fraccion')"
      ]
     },
     "execution_count": 16,
     "metadata": {},
     "output_type": "execute_result"
    },
    {
     "data": {
      "image/png": "[encoded data removed]",
      "text/plain": [
       "<Figure size 432x288 with 1 Axes>"
      ]
     },
     "metadata": {
      "needs_background": "light"
     },
     "output_type": "display_data"
    }
   ],
   "source": [
    "plt.bar(['Elipticas', 'Espirales', 'Enanas', 'Irregulares'], [g1, g2, g3, g4])\n",
    "plt.xlabel ('Grupos de Galaxias')\n",
    "plt.ylabel ('Fraccion')"
   ]
  },
  {
   "cell_type": "markdown",
   "metadata": {},
   "source": [
    "Vemos que en la tabla la probabilidad de cada galaxia se aproxima a la dada en f(x).\n",
    "Claro que a mayor cantidad de galaxia dadas esto se vuelve más exacto a estas probabilidades"
   ]
  }
 ],
 "metadata": {
  "kernelspec": {
   "display_name": "Python 3",
   "language": "python",
   "name": "python3"
  },
  "language_info": {
   "codemirror_mode": {
    "name": "ipython",
    "version": 3
   },
   "file_extension": ".py",
   "mimetype": "text/x-python",
   "name": "python",
   "nbconvert_exporter": "python",
   "pygments_lexer": "ipython3",
   "version": "3.8.3"
  }
 },
 "nbformat": 4,
 "nbformat_minor": 4
}
